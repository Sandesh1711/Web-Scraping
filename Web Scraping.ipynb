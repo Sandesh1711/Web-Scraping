{
 "cells": [
  {
   "cell_type": "markdown",
   "id": "c20adceb",
   "metadata": {},
   "source": [
    "# Proect outline\n"
   ]
  },
  {
   "cell_type": "markdown",
   "id": "083f6ba0",
   "metadata": {},
   "source": [
    "<!-- # - We are going to scrape https://github.com/topics\n",
    "- We will get a list of topics. For each topic,\n",
    "- we will get topic title, topic page url and topic description     -->"
   ]
  },
  {
   "cell_type": "code",
   "execution_count": 16,
   "id": "17583eb4",
   "metadata": {},
   "outputs": [],
   "source": [
    "# we are goint to scrape https://github.com/topics\n",
    "#     we will geta list of topics. For each topic, we will topic title, topic page url and topic description\n",
    "#     for each repository, we will grab the repo na,e, username, stars and repo url\n",
    "#     for each tpoic we will create a csv file in the following format"
   ]
  },
  {
   "cell_type": "markdown",
   "id": "6ee2a32c",
   "metadata": {},
   "source": [
    "# Use the requests library to download web pages"
   ]
  },
  {
   "cell_type": "code",
   "execution_count": 2,
   "id": "a3a44c19",
   "metadata": {},
   "outputs": [],
   "source": [
    "import requests"
   ]
  },
  {
   "cell_type": "code",
   "execution_count": 4,
   "id": "39be7d28",
   "metadata": {},
   "outputs": [],
   "source": [
    "topic_url = 'https://github.com/topics'"
   ]
  },
  {
   "cell_type": "code",
   "execution_count": 6,
   "id": "3a26e2dd",
   "metadata": {},
   "outputs": [],
   "source": [
    "response = requests.get(topic_url)"
   ]
  },
  {
   "cell_type": "code",
   "execution_count": 7,
   "id": "4158741e",
   "metadata": {},
   "outputs": [
    {
     "data": {
      "text/plain": [
       "200"
      ]
     },
     "execution_count": 7,
     "metadata": {},
     "output_type": "execute_result"
    }
   ],
   "source": [
    "response.status_code"
   ]
  },
  {
   "cell_type": "code",
   "execution_count": 8,
   "id": "ff6f6a51",
   "metadata": {},
   "outputs": [
    {
     "data": {
      "text/plain": [
       "139320"
      ]
     },
     "execution_count": 8,
     "metadata": {},
     "output_type": "execute_result"
    }
   ],
   "source": [
    "len(response.text)"
   ]
  },
  {
   "cell_type": "code",
   "execution_count": 9,
   "id": "01b39112",
   "metadata": {},
   "outputs": [],
   "source": [
    "page_content = response.text"
   ]
  },
  {
   "cell_type": "code",
   "execution_count": 12,
   "id": "1e02661d",
   "metadata": {},
   "outputs": [
    {
     "data": {
      "text/plain": [
       "'\\n\\n<!DOCTYPE html>\\n<html lang=\"en\" data-color-mode=\"auto\" data-light-theme=\"light\" data-dark-theme=\"d'"
      ]
     },
     "execution_count": 12,
     "metadata": {},
     "output_type": "execute_result"
    }
   ],
   "source": [
    "(page_content[:100])"
   ]
  },
  {
   "cell_type": "code",
   "execution_count": 15,
   "id": "0fe82b66",
   "metadata": {},
   "outputs": [],
   "source": [
    "with open('webpage.html','w', encoding = 'utf-8') as f:\n",
    "    f.write(page_content)"
   ]
  },
  {
   "cell_type": "markdown",
   "id": "18745487",
   "metadata": {},
   "source": [
    "# Use Beautiful Soup to parse and extract information"
   ]
  },
  {
   "cell_type": "code",
   "execution_count": 18,
   "id": "9beda275",
   "metadata": {},
   "outputs": [],
   "source": [
    "from bs4 import BeautifulSoup"
   ]
  },
  {
   "cell_type": "code",
   "execution_count": 19,
   "id": "3dd70ecb",
   "metadata": {},
   "outputs": [],
   "source": [
    "doc = BeautifulSoup(page_content, 'html.parser')"
   ]
  },
  {
   "cell_type": "code",
   "execution_count": 27,
   "id": "32d935c2",
   "metadata": {},
   "outputs": [],
   "source": [
    "#doc"
   ]
  },
  {
   "cell_type": "code",
   "execution_count": 21,
   "id": "f7110971",
   "metadata": {},
   "outputs": [
    {
     "data": {
      "text/plain": [
       "bs4.BeautifulSoup"
      ]
     },
     "execution_count": 21,
     "metadata": {},
     "output_type": "execute_result"
    }
   ],
   "source": [
    "type(doc)"
   ]
  },
  {
   "cell_type": "code",
   "execution_count": 22,
   "id": "5752feed",
   "metadata": {},
   "outputs": [],
   "source": [
    "p_tags = doc.find_all('p')"
   ]
  },
  {
   "cell_type": "code",
   "execution_count": 26,
   "id": "d662aef1",
   "metadata": {},
   "outputs": [],
   "source": [
    "#print(p_tags)"
   ]
  },
  {
   "cell_type": "code",
   "execution_count": 25,
   "id": "57772e48",
   "metadata": {},
   "outputs": [],
   "source": [
    "a_tags = doc.find_all('a')\n",
    "#print(a_tags)"
   ]
  },
  {
   "cell_type": "code",
   "execution_count": 28,
   "id": "df495e16",
   "metadata": {},
   "outputs": [
    {
     "data": {
      "text/plain": [
       "67"
      ]
     },
     "execution_count": 28,
     "metadata": {},
     "output_type": "execute_result"
    }
   ],
   "source": [
    "len(p_tags)"
   ]
  },
  {
   "cell_type": "code",
   "execution_count": 29,
   "id": "a5b19cab",
   "metadata": {},
   "outputs": [
    {
     "data": {
      "text/plain": [
       "[<p class=\"f4 color-fg-muted col-md-6 mx-auto\">Browse popular topics on GitHub.</p>,\n",
       " <p class=\"f3 lh-condensed text-center Link--primary mb-0 mt-1\">\n",
       "         GraphQL\n",
       "       </p>,\n",
       " <p class=\"f5 color-fg-muted text-center mb-0 mt-1\">GraphQL is a query language for APIs and a runtime for fulfilling those queries with your existing data.</p>,\n",
       " <p class=\"f3 lh-condensed text-center Link--primary mb-0 mt-1\">\n",
       "         Qt\n",
       "       </p>,\n",
       " <p class=\"f5 color-fg-muted text-center mb-0 mt-1\">Qt, pronounced \"cute\", is a cross-platform application development framework.</p>]"
      ]
     },
     "execution_count": 29,
     "metadata": {},
     "output_type": "execute_result"
    }
   ],
   "source": [
    "p_tags[:5]"
   ]
  },
  {
   "cell_type": "code",
   "execution_count": 30,
   "id": "4848fab8",
   "metadata": {},
   "outputs": [],
   "source": [
    "p_specified = doc.find_all('p', {'class' : 'f3 lh-condensed mb-0 mt-1 Link--primary'})"
   ]
  },
  {
   "cell_type": "code",
   "execution_count": 31,
   "id": "b93c43fe",
   "metadata": {},
   "outputs": [
    {
     "name": "stdout",
     "output_type": "stream",
     "text": [
      "[<p class=\"f3 lh-condensed mb-0 mt-1 Link--primary\">3D</p>, <p class=\"f3 lh-condensed mb-0 mt-1 Link--primary\">Ajax</p>, <p class=\"f3 lh-condensed mb-0 mt-1 Link--primary\">Algorithm</p>, <p class=\"f3 lh-condensed mb-0 mt-1 Link--primary\">Amp</p>, <p class=\"f3 lh-condensed mb-0 mt-1 Link--primary\">Android</p>, <p class=\"f3 lh-condensed mb-0 mt-1 Link--primary\">Angular</p>, <p class=\"f3 lh-condensed mb-0 mt-1 Link--primary\">Ansible</p>, <p class=\"f3 lh-condensed mb-0 mt-1 Link--primary\">API</p>, <p class=\"f3 lh-condensed mb-0 mt-1 Link--primary\">Arduino</p>, <p class=\"f3 lh-condensed mb-0 mt-1 Link--primary\">ASP.NET</p>, <p class=\"f3 lh-condensed mb-0 mt-1 Link--primary\">Atom</p>, <p class=\"f3 lh-condensed mb-0 mt-1 Link--primary\">Awesome Lists</p>, <p class=\"f3 lh-condensed mb-0 mt-1 Link--primary\">Amazon Web Services</p>, <p class=\"f3 lh-condensed mb-0 mt-1 Link--primary\">Azure</p>, <p class=\"f3 lh-condensed mb-0 mt-1 Link--primary\">Babel</p>, <p class=\"f3 lh-condensed mb-0 mt-1 Link--primary\">Bash</p>, <p class=\"f3 lh-condensed mb-0 mt-1 Link--primary\">Bitcoin</p>, <p class=\"f3 lh-condensed mb-0 mt-1 Link--primary\">Bootstrap</p>, <p class=\"f3 lh-condensed mb-0 mt-1 Link--primary\">Bot</p>, <p class=\"f3 lh-condensed mb-0 mt-1 Link--primary\">C</p>, <p class=\"f3 lh-condensed mb-0 mt-1 Link--primary\">Chrome</p>, <p class=\"f3 lh-condensed mb-0 mt-1 Link--primary\">Chrome extension</p>, <p class=\"f3 lh-condensed mb-0 mt-1 Link--primary\">Command line interface</p>, <p class=\"f3 lh-condensed mb-0 mt-1 Link--primary\">Clojure</p>, <p class=\"f3 lh-condensed mb-0 mt-1 Link--primary\">Code quality</p>, <p class=\"f3 lh-condensed mb-0 mt-1 Link--primary\">Code review</p>, <p class=\"f3 lh-condensed mb-0 mt-1 Link--primary\">Compiler</p>, <p class=\"f3 lh-condensed mb-0 mt-1 Link--primary\">Continuous integration</p>, <p class=\"f3 lh-condensed mb-0 mt-1 Link--primary\">COVID-19</p>, <p class=\"f3 lh-condensed mb-0 mt-1 Link--primary\">C++</p>]\n"
     ]
    }
   ],
   "source": [
    "print(p_specified)"
   ]
  },
  {
   "cell_type": "code",
   "execution_count": 33,
   "id": "8fd9f47d",
   "metadata": {},
   "outputs": [
    {
     "data": {
      "text/plain": [
       "[<p class=\"f3 lh-condensed mb-0 mt-1 Link--primary\">3D</p>,\n",
       " <p class=\"f3 lh-condensed mb-0 mt-1 Link--primary\">Ajax</p>,\n",
       " <p class=\"f3 lh-condensed mb-0 mt-1 Link--primary\">Algorithm</p>,\n",
       " <p class=\"f3 lh-condensed mb-0 mt-1 Link--primary\">Amp</p>,\n",
       " <p class=\"f3 lh-condensed mb-0 mt-1 Link--primary\">Android</p>]"
      ]
     },
     "execution_count": 33,
     "metadata": {},
     "output_type": "execute_result"
    }
   ],
   "source": [
    "p_specified[:5]"
   ]
  },
  {
   "cell_type": "code",
   "execution_count": 42,
   "id": "34f0ea05",
   "metadata": {},
   "outputs": [],
   "source": [
    "desc_selected = 'f5 color-fg-muted mb-0 mt-1'\n",
    "p_specified_desc = doc.find_all('p',{'class': desc_selected})"
   ]
  },
  {
   "cell_type": "code",
   "execution_count": 43,
   "id": "d9f31424",
   "metadata": {},
   "outputs": [
    {
     "data": {
      "text/plain": [
       "[<p class=\"f5 color-fg-muted mb-0 mt-1\">\n",
       "           3D modeling is the process of virtually developing the surface and structure of a 3D object.\n",
       "         </p>,\n",
       " <p class=\"f5 color-fg-muted mb-0 mt-1\">\n",
       "           Ajax is a technique for creating interactive web applications.\n",
       "         </p>,\n",
       " <p class=\"f5 color-fg-muted mb-0 mt-1\">\n",
       "           Algorithms are self-contained sequences that carry out a variety of tasks.\n",
       "         </p>,\n",
       " <p class=\"f5 color-fg-muted mb-0 mt-1\">\n",
       "           Amp is a non-blocking concurrency library for PHP.\n",
       "         </p>,\n",
       " <p class=\"f5 color-fg-muted mb-0 mt-1\">\n",
       "           Android is an operating system built by Google designed for mobile devices.\n",
       "         </p>,\n",
       " <p class=\"f5 color-fg-muted mb-0 mt-1\">\n",
       "           Angular is an open source web application platform.\n",
       "         </p>,\n",
       " <p class=\"f5 color-fg-muted mb-0 mt-1\">\n",
       "           Ansible is a simple and powerful automation engine.\n",
       "         </p>,\n",
       " <p class=\"f5 color-fg-muted mb-0 mt-1\">\n",
       "           An API (Application Programming Interface) is a collection of protocols and subroutines for building software.\n",
       "         </p>,\n",
       " <p class=\"f5 color-fg-muted mb-0 mt-1\">\n",
       "           Arduino is an open source hardware and software company and maker community.\n",
       "         </p>,\n",
       " <p class=\"f5 color-fg-muted mb-0 mt-1\">\n",
       "           ASP.NET is a web framework for building modern web apps and services.\n",
       "         </p>,\n",
       " <p class=\"f5 color-fg-muted mb-0 mt-1\">\n",
       "           Atom is a open source text editor built with web technologies.\n",
       "         </p>,\n",
       " <p class=\"f5 color-fg-muted mb-0 mt-1\">\n",
       "           An awesome list is a list of awesome things curated by the community.\n",
       "         </p>,\n",
       " <p class=\"f5 color-fg-muted mb-0 mt-1\">\n",
       "           Amazon Web Services provides on-demand cloud computing platforms on a subscription basis.\n",
       "         </p>,\n",
       " <p class=\"f5 color-fg-muted mb-0 mt-1\">\n",
       "           Azure is a cloud computing service created by Microsoft.\n",
       "         </p>,\n",
       " <p class=\"f5 color-fg-muted mb-0 mt-1\">\n",
       "           Babel is a compiler for writing next generation JavaScript, today.\n",
       "         </p>,\n",
       " <p class=\"f5 color-fg-muted mb-0 mt-1\">\n",
       "           Bash is a shell and command language interpreter for the GNU operating system.\n",
       "         </p>,\n",
       " <p class=\"f5 color-fg-muted mb-0 mt-1\">\n",
       "           Bitcoin is a cryptocurrency developed by Satoshi Nakamoto.\n",
       "         </p>,\n",
       " <p class=\"f5 color-fg-muted mb-0 mt-1\">\n",
       "           Bootstrap is an HTML, CSS, and JavaScript framework.\n",
       "         </p>,\n",
       " <p class=\"f5 color-fg-muted mb-0 mt-1\">\n",
       "           A bot is an application that runs automated tasks over the Internet.\n",
       "         </p>,\n",
       " <p class=\"f5 color-fg-muted mb-0 mt-1\">\n",
       "           C is a general purpose programming language that first appeared in 1972.\n",
       "         </p>,\n",
       " <p class=\"f5 color-fg-muted mb-0 mt-1\">\n",
       "           Chrome is a web browser from the tech company Google.\n",
       "         </p>,\n",
       " <p class=\"f5 color-fg-muted mb-0 mt-1\">\n",
       "           Chrome extensions enable users to customize the Chrome browsing experience.\n",
       "         </p>,\n",
       " <p class=\"f5 color-fg-muted mb-0 mt-1\">\n",
       "           A CLI, or command-line interface, is a console that helps users issue commands to a program.\n",
       "         </p>,\n",
       " <p class=\"f5 color-fg-muted mb-0 mt-1\">\n",
       "           Clojure is a dynamic, general-purpose programming language.\n",
       "         </p>,\n",
       " <p class=\"f5 color-fg-muted mb-0 mt-1\">\n",
       "           Automate your code review with style, quality, security, and test‑coverage checks when you need them.\n",
       "         </p>,\n",
       " <p class=\"f5 color-fg-muted mb-0 mt-1\">\n",
       "           Ensure your code meets quality standards and ship with confidence.\n",
       "         </p>,\n",
       " <p class=\"f5 color-fg-muted mb-0 mt-1\">\n",
       "           Compilers are software that translate higher-level programming languages to lower-level languages (e.g. machine code).\n",
       "         </p>,\n",
       " <p class=\"f5 color-fg-muted mb-0 mt-1\">\n",
       "           Automatically build and test your code as you push it upstream, preventing bugs from being deployed to production.\n",
       "         </p>,\n",
       " <p class=\"f5 color-fg-muted mb-0 mt-1\">\n",
       "           The coronavirus disease 2019 (COVID-19) is an infectious disease caused by SARS-CoV-2.\n",
       "         </p>,\n",
       " <p class=\"f5 color-fg-muted mb-0 mt-1\">\n",
       "           C++ is a general purpose and object-oriented programming language.\n",
       "         </p>]"
      ]
     },
     "execution_count": 43,
     "metadata": {},
     "output_type": "execute_result"
    }
   ],
   "source": [
    "p_specified_desc"
   ]
  },
  {
   "cell_type": "code",
   "execution_count": 44,
   "id": "d59e705b",
   "metadata": {},
   "outputs": [
    {
     "data": {
      "text/plain": [
       "[<p class=\"f5 color-fg-muted mb-0 mt-1\">\n",
       "           3D modeling is the process of virtually developing the surface and structure of a 3D object.\n",
       "         </p>]"
      ]
     },
     "execution_count": 44,
     "metadata": {},
     "output_type": "execute_result"
    }
   ],
   "source": [
    "p_specified_desc[:1]"
   ]
  },
  {
   "cell_type": "code",
   "execution_count": 46,
   "id": "64355e03",
   "metadata": {},
   "outputs": [],
   "source": [
    "p_specified_desc0 = p_specified_desc[0]"
   ]
  },
  {
   "cell_type": "code",
   "execution_count": 48,
   "id": "bcc4a1ff",
   "metadata": {},
   "outputs": [
    {
     "data": {
      "text/plain": [
       "<p class=\"f5 color-fg-muted mb-0 mt-1\">\n",
       "          3D modeling is the process of virtually developing the surface and structure of a 3D object.\n",
       "        </p>"
      ]
     },
     "execution_count": 48,
     "metadata": {},
     "output_type": "execute_result"
    }
   ],
   "source": [
    "p_specified_desc0"
   ]
  },
  {
   "cell_type": "code",
   "execution_count": 49,
   "id": "3e02f1aa",
   "metadata": {},
   "outputs": [
    {
     "data": {
      "text/plain": [
       "<p class=\"f3 lh-condensed mb-0 mt-1 Link--primary\">3D</p>"
      ]
     },
     "execution_count": 49,
     "metadata": {},
     "output_type": "execute_result"
    }
   ],
   "source": [
    "p_specified0 = p_specified[0]\n",
    "p_specified0"
   ]
  },
  {
   "cell_type": "code",
   "execution_count": 52,
   "id": "360c380f",
   "metadata": {},
   "outputs": [],
   "source": [
    "div_tag = p_specified0.parent"
   ]
  },
  {
   "cell_type": "code",
   "execution_count": 53,
   "id": "023f98f8",
   "metadata": {},
   "outputs": [],
   "source": [
    "#p_specified0.parent.parent"
   ]
  },
  {
   "cell_type": "code",
   "execution_count": 54,
   "id": "74949de7",
   "metadata": {},
   "outputs": [
    {
     "data": {
      "text/plain": [
       "<div class=\"py-4 border-bottom d-flex flex-justify-between\">\n",
       "<a class=\"no-underline flex-grow-0\" href=\"/topics/3d\">\n",
       "<div class=\"color-bg-accent f4 color-fg-muted text-bold rounded mr-3 flex-shrink-0 text-center\" style=\"width:64px; height:64px; line-height:64px;\">\n",
       "            #\n",
       "          </div>\n",
       "</a>\n",
       "<a class=\"no-underline flex-1 d-flex flex-column\" href=\"/topics/3d\">\n",
       "<p class=\"f3 lh-condensed mb-0 mt-1 Link--primary\">3D</p>\n",
       "<p class=\"f5 color-fg-muted mb-0 mt-1\">\n",
       "          3D modeling is the process of virtually developing the surface and structure of a 3D object.\n",
       "        </p>\n",
       "</a>\n",
       "<div class=\"flex-grow-0\">\n",
       "<div class=\"d-block\" data-view-component=\"true\">\n",
       "<a aria-label=\"You must be signed in to star a repository\" class=\"tooltipped tooltipped-s btn-sm btn\" data-hydro-click='{\"event_type\":\"authentication.click\",\"payload\":{\"location_in_page\":\"star button\",\"repository_id\":null,\"auth_type\":\"LOG_IN\",\"originating_url\":\"https://github.com/topics\",\"user_id\":null}}' data-hydro-click-hmac=\"5d696759683aa72e09fbdb14a69b26ab1c672e6d107e4ae922a0926f4476f50a\" data-view-component=\"true\" href=\"/login?return_to=%2Ftopic.3d\" rel=\"nofollow\"> <svg aria-hidden=\"true\" class=\"octicon octicon-star v-align-text-bottom d-inline-block mr-2\" data-view-component=\"true\" height=\"16\" version=\"1.1\" viewbox=\"0 0 16 16\" width=\"16\">\n",
       "<path d=\"M8 .25a.75.75 0 01.673.418l1.882 3.815 4.21.612a.75.75 0 01.416 1.279l-3.046 2.97.719 4.192a.75.75 0 01-1.088.791L8 12.347l-3.766 1.98a.75.75 0 01-1.088-.79l.72-4.194L.818 6.374a.75.75 0 01.416-1.28l4.21-.611L7.327.668A.75.75 0 018 .25zm0 2.445L6.615 5.5a.75.75 0 01-.564.41l-3.097.45 2.24 2.184a.75.75 0 01.216.664l-.528 3.084 2.769-1.456a.75.75 0 01.698 0l2.77 1.456-.53-3.084a.75.75 0 01.216-.664l2.24-2.183-3.096-.45a.75.75 0 01-.564-.41L8 2.694v.001z\" fill-rule=\"evenodd\"></path>\n",
       "</svg><span class=\"d-inline\" data-view-component=\"true\">\n",
       "          Star\n",
       "</span>\n",
       "</a></div>\n",
       "</div>\n",
       "</div>"
      ]
     },
     "execution_count": 54,
     "metadata": {},
     "output_type": "execute_result"
    }
   ],
   "source": [
    "div_tag.parent"
   ]
  },
  {
   "cell_type": "code",
   "execution_count": 56,
   "id": "3936d59e",
   "metadata": {},
   "outputs": [
    {
     "data": {
      "text/plain": [
       "30"
      ]
     },
     "execution_count": 56,
     "metadata": {},
     "output_type": "execute_result"
    }
   ],
   "source": [
    "topic_link_tags = doc.find_all('a', {'class': 'no-underline flex-1 d-flex flex-column'})\n",
    "len(topic_link_tags)"
   ]
  },
  {
   "cell_type": "code",
   "execution_count": 57,
   "id": "2cd90e17",
   "metadata": {},
   "outputs": [
    {
     "data": {
      "text/plain": [
       "'/topics/3d'"
      ]
     },
     "execution_count": 57,
     "metadata": {},
     "output_type": "execute_result"
    }
   ],
   "source": [
    "topic_link_tags[0]['href']"
   ]
  },
  {
   "cell_type": "code",
   "execution_count": 58,
   "id": "87f7ba32",
   "metadata": {},
   "outputs": [],
   "source": [
    "topic_url = 'https://github.com'+topic_link_tags[0]['href']"
   ]
  },
  {
   "cell_type": "code",
   "execution_count": 59,
   "id": "549bd475",
   "metadata": {},
   "outputs": [
    {
     "name": "stdout",
     "output_type": "stream",
     "text": [
      "https://github.com/topics/3d\n"
     ]
    }
   ],
   "source": [
    "print(topic_url)"
   ]
  },
  {
   "cell_type": "code",
   "execution_count": 60,
   "id": "9cc7eceb",
   "metadata": {},
   "outputs": [
    {
     "data": {
      "text/plain": [
       "'3D'"
      ]
     },
     "execution_count": 60,
     "metadata": {},
     "output_type": "execute_result"
    }
   ],
   "source": [
    "p_specified0.text\n"
   ]
  },
  {
   "cell_type": "code",
   "execution_count": 61,
   "id": "5530b0dc",
   "metadata": {},
   "outputs": [
    {
     "name": "stdout",
     "output_type": "stream",
     "text": [
      "['3D', 'Ajax', 'Algorithm', 'Amp', 'Android', 'Angular', 'Ansible', 'API', 'Arduino', 'ASP.NET', 'Atom', 'Awesome Lists', 'Amazon Web Services', 'Azure', 'Babel', 'Bash', 'Bitcoin', 'Bootstrap', 'Bot', 'C', 'Chrome', 'Chrome extension', 'Command line interface', 'Clojure', 'Code quality', 'Code review', 'Compiler', 'Continuous integration', 'COVID-19', 'C++']\n"
     ]
    }
   ],
   "source": [
    "topic_title = []\n",
    "\n",
    "for tag in p_specified:\n",
    "    topic_title.append(tag.text)\n",
    "    \n",
    "print(topic_title)    "
   ]
  },
  {
   "cell_type": "code",
   "execution_count": 65,
   "id": "8497f6ff",
   "metadata": {},
   "outputs": [
    {
     "name": "stdout",
     "output_type": "stream",
     "text": [
      "['3D modeling is the process of virtually developing the surface and structure of a 3D object.', 'Ajax is a technique for creating interactive web applications.', 'Algorithms are self-contained sequences that carry out a variety of tasks.', 'Amp is a non-blocking concurrency library for PHP.', 'Android is an operating system built by Google designed for mobile devices.']\n"
     ]
    }
   ],
   "source": [
    "topic_desc= []\n",
    "\n",
    "for desc in p_specified_desc:\n",
    "    topic_desc.append(desc.text.strip())\n",
    "    \n",
    "print(topic_desc[:5])    "
   ]
  },
  {
   "cell_type": "code",
   "execution_count": 69,
   "id": "b753ceec",
   "metadata": {},
   "outputs": [
    {
     "name": "stdout",
     "output_type": "stream",
     "text": [
      "['htpps://github.com/topics/3d', 'htpps://github.com/topics/ajax', 'htpps://github.com/topics/algorithm', 'htpps://github.com/topics/amphp', 'htpps://github.com/topics/android', 'htpps://github.com/topics/angular', 'htpps://github.com/topics/ansible', 'htpps://github.com/topics/api', 'htpps://github.com/topics/arduino', 'htpps://github.com/topics/aspnet', 'htpps://github.com/topics/atom', 'htpps://github.com/topics/awesome', 'htpps://github.com/topics/aws', 'htpps://github.com/topics/azure', 'htpps://github.com/topics/babel', 'htpps://github.com/topics/bash', 'htpps://github.com/topics/bitcoin', 'htpps://github.com/topics/bootstrap', 'htpps://github.com/topics/bot', 'htpps://github.com/topics/c', 'htpps://github.com/topics/chrome', 'htpps://github.com/topics/chrome-extension', 'htpps://github.com/topics/cli', 'htpps://github.com/topics/clojure', 'htpps://github.com/topics/code-quality', 'htpps://github.com/topics/code-review', 'htpps://github.com/topics/compiler', 'htpps://github.com/topics/continuous-integration', 'htpps://github.com/topics/covid-19', 'htpps://github.com/topics/cpp']\n"
     ]
    }
   ],
   "source": [
    "topic_url = []\n",
    "base_url = 'htpps://github.com'\n",
    "\n",
    "for link in topic_link_tags:\n",
    "    topic_url.append(base_url+link['href'])\n",
    "    \n",
    "print(topic_url)    "
   ]
  },
  {
   "cell_type": "code",
   "execution_count": 70,
   "id": "d757d674",
   "metadata": {},
   "outputs": [],
   "source": [
    "import pandas as pd"
   ]
  },
  {
   "cell_type": "code",
   "execution_count": 72,
   "id": "63eab657",
   "metadata": {},
   "outputs": [],
   "source": [
    "topic_dict = {\n",
    "    'title': topic_title,\n",
    "    'description' : topic_desc,\n",
    "    'link' : topic_url\n",
    "}"
   ]
  },
  {
   "cell_type": "code",
   "execution_count": 75,
   "id": "9fac3995",
   "metadata": {},
   "outputs": [
    {
     "name": "stdout",
     "output_type": "stream",
     "text": [
      "{'title': ['3D', 'Ajax', 'Algorithm', 'Amp', 'Android', 'Angular', 'Ansible', 'API', 'Arduino', 'ASP.NET', 'Atom', 'Awesome Lists', 'Amazon Web Services', 'Azure', 'Babel', 'Bash', 'Bitcoin', 'Bootstrap', 'Bot', 'C', 'Chrome', 'Chrome extension', 'Command line interface', 'Clojure', 'Code quality', 'Code review', 'Compiler', 'Continuous integration', 'COVID-19', 'C++'], 'description': ['3D modeling is the process of virtually developing the surface and structure of a 3D object.', 'Ajax is a technique for creating interactive web applications.', 'Algorithms are self-contained sequences that carry out a variety of tasks.', 'Amp is a non-blocking concurrency library for PHP.', 'Android is an operating system built by Google designed for mobile devices.', 'Angular is an open source web application platform.', 'Ansible is a simple and powerful automation engine.', 'An API (Application Programming Interface) is a collection of protocols and subroutines for building software.', 'Arduino is an open source hardware and software company and maker community.', 'ASP.NET is a web framework for building modern web apps and services.', 'Atom is a open source text editor built with web technologies.', 'An awesome list is a list of awesome things curated by the community.', 'Amazon Web Services provides on-demand cloud computing platforms on a subscription basis.', 'Azure is a cloud computing service created by Microsoft.', 'Babel is a compiler for writing next generation JavaScript, today.', 'Bash is a shell and command language interpreter for the GNU operating system.', 'Bitcoin is a cryptocurrency developed by Satoshi Nakamoto.', 'Bootstrap is an HTML, CSS, and JavaScript framework.', 'A bot is an application that runs automated tasks over the Internet.', 'C is a general purpose programming language that first appeared in 1972.', 'Chrome is a web browser from the tech company Google.', 'Chrome extensions enable users to customize the Chrome browsing experience.', 'A CLI, or command-line interface, is a console that helps users issue commands to a program.', 'Clojure is a dynamic, general-purpose programming language.', 'Automate your code review with style, quality, security, and test‑coverage checks when you need them.', 'Ensure your code meets quality standards and ship with confidence.', 'Compilers are software that translate higher-level programming languages to lower-level languages (e.g. machine code).', 'Automatically build and test your code as you push it upstream, preventing bugs from being deployed to production.', 'The coronavirus disease 2019 (COVID-19) is an infectious disease caused by SARS-CoV-2.', 'C++ is a general purpose and object-oriented programming language.'], 'link': ['htpps://github.com/topics/3d', 'htpps://github.com/topics/ajax', 'htpps://github.com/topics/algorithm', 'htpps://github.com/topics/amphp', 'htpps://github.com/topics/android', 'htpps://github.com/topics/angular', 'htpps://github.com/topics/ansible', 'htpps://github.com/topics/api', 'htpps://github.com/topics/arduino', 'htpps://github.com/topics/aspnet', 'htpps://github.com/topics/atom', 'htpps://github.com/topics/awesome', 'htpps://github.com/topics/aws', 'htpps://github.com/topics/azure', 'htpps://github.com/topics/babel', 'htpps://github.com/topics/bash', 'htpps://github.com/topics/bitcoin', 'htpps://github.com/topics/bootstrap', 'htpps://github.com/topics/bot', 'htpps://github.com/topics/c', 'htpps://github.com/topics/chrome', 'htpps://github.com/topics/chrome-extension', 'htpps://github.com/topics/cli', 'htpps://github.com/topics/clojure', 'htpps://github.com/topics/code-quality', 'htpps://github.com/topics/code-review', 'htpps://github.com/topics/compiler', 'htpps://github.com/topics/continuous-integration', 'htpps://github.com/topics/covid-19', 'htpps://github.com/topics/cpp']}\n"
     ]
    }
   ],
   "source": [
    "print(topic_dict)"
   ]
  },
  {
   "cell_type": "code",
   "execution_count": 76,
   "id": "614d8413",
   "metadata": {},
   "outputs": [],
   "source": [
    "df = pd.DataFrame(topic_dict)"
   ]
  },
  {
   "cell_type": "code",
   "execution_count": 77,
   "id": "eec1e956",
   "metadata": {},
   "outputs": [
    {
     "data": {
      "text/html": [
       "<div>\n",
       "<style scoped>\n",
       "    .dataframe tbody tr th:only-of-type {\n",
       "        vertical-align: middle;\n",
       "    }\n",
       "\n",
       "    .dataframe tbody tr th {\n",
       "        vertical-align: top;\n",
       "    }\n",
       "\n",
       "    .dataframe thead th {\n",
       "        text-align: right;\n",
       "    }\n",
       "</style>\n",
       "<table border=\"1\" class=\"dataframe\">\n",
       "  <thead>\n",
       "    <tr style=\"text-align: right;\">\n",
       "      <th></th>\n",
       "      <th>title</th>\n",
       "      <th>description</th>\n",
       "      <th>link</th>\n",
       "    </tr>\n",
       "  </thead>\n",
       "  <tbody>\n",
       "    <tr>\n",
       "      <th>0</th>\n",
       "      <td>3D</td>\n",
       "      <td>3D modeling is the process of virtually develo...</td>\n",
       "      <td>htpps://github.com/topics/3d</td>\n",
       "    </tr>\n",
       "    <tr>\n",
       "      <th>1</th>\n",
       "      <td>Ajax</td>\n",
       "      <td>Ajax is a technique for creating interactive w...</td>\n",
       "      <td>htpps://github.com/topics/ajax</td>\n",
       "    </tr>\n",
       "    <tr>\n",
       "      <th>2</th>\n",
       "      <td>Algorithm</td>\n",
       "      <td>Algorithms are self-contained sequences that c...</td>\n",
       "      <td>htpps://github.com/topics/algorithm</td>\n",
       "    </tr>\n",
       "    <tr>\n",
       "      <th>3</th>\n",
       "      <td>Amp</td>\n",
       "      <td>Amp is a non-blocking concurrency library for ...</td>\n",
       "      <td>htpps://github.com/topics/amphp</td>\n",
       "    </tr>\n",
       "    <tr>\n",
       "      <th>4</th>\n",
       "      <td>Android</td>\n",
       "      <td>Android is an operating system built by Google...</td>\n",
       "      <td>htpps://github.com/topics/android</td>\n",
       "    </tr>\n",
       "    <tr>\n",
       "      <th>5</th>\n",
       "      <td>Angular</td>\n",
       "      <td>Angular is an open source web application plat...</td>\n",
       "      <td>htpps://github.com/topics/angular</td>\n",
       "    </tr>\n",
       "    <tr>\n",
       "      <th>6</th>\n",
       "      <td>Ansible</td>\n",
       "      <td>Ansible is a simple and powerful automation en...</td>\n",
       "      <td>htpps://github.com/topics/ansible</td>\n",
       "    </tr>\n",
       "    <tr>\n",
       "      <th>7</th>\n",
       "      <td>API</td>\n",
       "      <td>An API (Application Programming Interface) is ...</td>\n",
       "      <td>htpps://github.com/topics/api</td>\n",
       "    </tr>\n",
       "    <tr>\n",
       "      <th>8</th>\n",
       "      <td>Arduino</td>\n",
       "      <td>Arduino is an open source hardware and softwar...</td>\n",
       "      <td>htpps://github.com/topics/arduino</td>\n",
       "    </tr>\n",
       "    <tr>\n",
       "      <th>9</th>\n",
       "      <td>ASP.NET</td>\n",
       "      <td>ASP.NET is a web framework for building modern...</td>\n",
       "      <td>htpps://github.com/topics/aspnet</td>\n",
       "    </tr>\n",
       "    <tr>\n",
       "      <th>10</th>\n",
       "      <td>Atom</td>\n",
       "      <td>Atom is a open source text editor built with w...</td>\n",
       "      <td>htpps://github.com/topics/atom</td>\n",
       "    </tr>\n",
       "    <tr>\n",
       "      <th>11</th>\n",
       "      <td>Awesome Lists</td>\n",
       "      <td>An awesome list is a list of awesome things cu...</td>\n",
       "      <td>htpps://github.com/topics/awesome</td>\n",
       "    </tr>\n",
       "    <tr>\n",
       "      <th>12</th>\n",
       "      <td>Amazon Web Services</td>\n",
       "      <td>Amazon Web Services provides on-demand cloud c...</td>\n",
       "      <td>htpps://github.com/topics/aws</td>\n",
       "    </tr>\n",
       "    <tr>\n",
       "      <th>13</th>\n",
       "      <td>Azure</td>\n",
       "      <td>Azure is a cloud computing service created by ...</td>\n",
       "      <td>htpps://github.com/topics/azure</td>\n",
       "    </tr>\n",
       "    <tr>\n",
       "      <th>14</th>\n",
       "      <td>Babel</td>\n",
       "      <td>Babel is a compiler for writing next generatio...</td>\n",
       "      <td>htpps://github.com/topics/babel</td>\n",
       "    </tr>\n",
       "    <tr>\n",
       "      <th>15</th>\n",
       "      <td>Bash</td>\n",
       "      <td>Bash is a shell and command language interpret...</td>\n",
       "      <td>htpps://github.com/topics/bash</td>\n",
       "    </tr>\n",
       "    <tr>\n",
       "      <th>16</th>\n",
       "      <td>Bitcoin</td>\n",
       "      <td>Bitcoin is a cryptocurrency developed by Satos...</td>\n",
       "      <td>htpps://github.com/topics/bitcoin</td>\n",
       "    </tr>\n",
       "    <tr>\n",
       "      <th>17</th>\n",
       "      <td>Bootstrap</td>\n",
       "      <td>Bootstrap is an HTML, CSS, and JavaScript fram...</td>\n",
       "      <td>htpps://github.com/topics/bootstrap</td>\n",
       "    </tr>\n",
       "    <tr>\n",
       "      <th>18</th>\n",
       "      <td>Bot</td>\n",
       "      <td>A bot is an application that runs automated ta...</td>\n",
       "      <td>htpps://github.com/topics/bot</td>\n",
       "    </tr>\n",
       "    <tr>\n",
       "      <th>19</th>\n",
       "      <td>C</td>\n",
       "      <td>C is a general purpose programming language th...</td>\n",
       "      <td>htpps://github.com/topics/c</td>\n",
       "    </tr>\n",
       "    <tr>\n",
       "      <th>20</th>\n",
       "      <td>Chrome</td>\n",
       "      <td>Chrome is a web browser from the tech company ...</td>\n",
       "      <td>htpps://github.com/topics/chrome</td>\n",
       "    </tr>\n",
       "    <tr>\n",
       "      <th>21</th>\n",
       "      <td>Chrome extension</td>\n",
       "      <td>Chrome extensions enable users to customize th...</td>\n",
       "      <td>htpps://github.com/topics/chrome-extension</td>\n",
       "    </tr>\n",
       "    <tr>\n",
       "      <th>22</th>\n",
       "      <td>Command line interface</td>\n",
       "      <td>A CLI, or command-line interface, is a console...</td>\n",
       "      <td>htpps://github.com/topics/cli</td>\n",
       "    </tr>\n",
       "    <tr>\n",
       "      <th>23</th>\n",
       "      <td>Clojure</td>\n",
       "      <td>Clojure is a dynamic, general-purpose programm...</td>\n",
       "      <td>htpps://github.com/topics/clojure</td>\n",
       "    </tr>\n",
       "    <tr>\n",
       "      <th>24</th>\n",
       "      <td>Code quality</td>\n",
       "      <td>Automate your code review with style, quality,...</td>\n",
       "      <td>htpps://github.com/topics/code-quality</td>\n",
       "    </tr>\n",
       "    <tr>\n",
       "      <th>25</th>\n",
       "      <td>Code review</td>\n",
       "      <td>Ensure your code meets quality standards and s...</td>\n",
       "      <td>htpps://github.com/topics/code-review</td>\n",
       "    </tr>\n",
       "    <tr>\n",
       "      <th>26</th>\n",
       "      <td>Compiler</td>\n",
       "      <td>Compilers are software that translate higher-l...</td>\n",
       "      <td>htpps://github.com/topics/compiler</td>\n",
       "    </tr>\n",
       "    <tr>\n",
       "      <th>27</th>\n",
       "      <td>Continuous integration</td>\n",
       "      <td>Automatically build and test your code as you ...</td>\n",
       "      <td>htpps://github.com/topics/continuous-integration</td>\n",
       "    </tr>\n",
       "    <tr>\n",
       "      <th>28</th>\n",
       "      <td>COVID-19</td>\n",
       "      <td>The coronavirus disease 2019 (COVID-19) is an ...</td>\n",
       "      <td>htpps://github.com/topics/covid-19</td>\n",
       "    </tr>\n",
       "    <tr>\n",
       "      <th>29</th>\n",
       "      <td>C++</td>\n",
       "      <td>C++ is a general purpose and object-oriented p...</td>\n",
       "      <td>htpps://github.com/topics/cpp</td>\n",
       "    </tr>\n",
       "  </tbody>\n",
       "</table>\n",
       "</div>"
      ],
      "text/plain": [
       "                     title                                        description  \\\n",
       "0                       3D  3D modeling is the process of virtually develo...   \n",
       "1                     Ajax  Ajax is a technique for creating interactive w...   \n",
       "2                Algorithm  Algorithms are self-contained sequences that c...   \n",
       "3                      Amp  Amp is a non-blocking concurrency library for ...   \n",
       "4                  Android  Android is an operating system built by Google...   \n",
       "5                  Angular  Angular is an open source web application plat...   \n",
       "6                  Ansible  Ansible is a simple and powerful automation en...   \n",
       "7                      API  An API (Application Programming Interface) is ...   \n",
       "8                  Arduino  Arduino is an open source hardware and softwar...   \n",
       "9                  ASP.NET  ASP.NET is a web framework for building modern...   \n",
       "10                    Atom  Atom is a open source text editor built with w...   \n",
       "11           Awesome Lists  An awesome list is a list of awesome things cu...   \n",
       "12     Amazon Web Services  Amazon Web Services provides on-demand cloud c...   \n",
       "13                   Azure  Azure is a cloud computing service created by ...   \n",
       "14                   Babel  Babel is a compiler for writing next generatio...   \n",
       "15                    Bash  Bash is a shell and command language interpret...   \n",
       "16                 Bitcoin  Bitcoin is a cryptocurrency developed by Satos...   \n",
       "17               Bootstrap  Bootstrap is an HTML, CSS, and JavaScript fram...   \n",
       "18                     Bot  A bot is an application that runs automated ta...   \n",
       "19                       C  C is a general purpose programming language th...   \n",
       "20                  Chrome  Chrome is a web browser from the tech company ...   \n",
       "21        Chrome extension  Chrome extensions enable users to customize th...   \n",
       "22  Command line interface  A CLI, or command-line interface, is a console...   \n",
       "23                 Clojure  Clojure is a dynamic, general-purpose programm...   \n",
       "24            Code quality  Automate your code review with style, quality,...   \n",
       "25             Code review  Ensure your code meets quality standards and s...   \n",
       "26                Compiler  Compilers are software that translate higher-l...   \n",
       "27  Continuous integration  Automatically build and test your code as you ...   \n",
       "28                COVID-19  The coronavirus disease 2019 (COVID-19) is an ...   \n",
       "29                     C++  C++ is a general purpose and object-oriented p...   \n",
       "\n",
       "                                                link  \n",
       "0                       htpps://github.com/topics/3d  \n",
       "1                     htpps://github.com/topics/ajax  \n",
       "2                htpps://github.com/topics/algorithm  \n",
       "3                    htpps://github.com/topics/amphp  \n",
       "4                  htpps://github.com/topics/android  \n",
       "5                  htpps://github.com/topics/angular  \n",
       "6                  htpps://github.com/topics/ansible  \n",
       "7                      htpps://github.com/topics/api  \n",
       "8                  htpps://github.com/topics/arduino  \n",
       "9                   htpps://github.com/topics/aspnet  \n",
       "10                    htpps://github.com/topics/atom  \n",
       "11                 htpps://github.com/topics/awesome  \n",
       "12                     htpps://github.com/topics/aws  \n",
       "13                   htpps://github.com/topics/azure  \n",
       "14                   htpps://github.com/topics/babel  \n",
       "15                    htpps://github.com/topics/bash  \n",
       "16                 htpps://github.com/topics/bitcoin  \n",
       "17               htpps://github.com/topics/bootstrap  \n",
       "18                     htpps://github.com/topics/bot  \n",
       "19                       htpps://github.com/topics/c  \n",
       "20                  htpps://github.com/topics/chrome  \n",
       "21        htpps://github.com/topics/chrome-extension  \n",
       "22                     htpps://github.com/topics/cli  \n",
       "23                 htpps://github.com/topics/clojure  \n",
       "24            htpps://github.com/topics/code-quality  \n",
       "25             htpps://github.com/topics/code-review  \n",
       "26                htpps://github.com/topics/compiler  \n",
       "27  htpps://github.com/topics/continuous-integration  \n",
       "28                htpps://github.com/topics/covid-19  \n",
       "29                     htpps://github.com/topics/cpp  "
      ]
     },
     "execution_count": 77,
     "metadata": {},
     "output_type": "execute_result"
    }
   ],
   "source": [
    "df"
   ]
  },
  {
   "cell_type": "markdown",
   "id": "7174a3c8",
   "metadata": {},
   "source": [
    "# Create CSV files with the extracted information"
   ]
  },
  {
   "cell_type": "code",
   "execution_count": 78,
   "id": "a00bc22d",
   "metadata": {},
   "outputs": [],
   "source": [
    "df.to_csv('myfile.csv')"
   ]
  },
  {
   "cell_type": "code",
   "execution_count": null,
   "id": "4ac52e95",
   "metadata": {},
   "outputs": [],
   "source": []
  }
 ],
 "metadata": {
  "kernelspec": {
   "display_name": "Python 3 (ipykernel)",
   "language": "python",
   "name": "python3"
  },
  "language_info": {
   "codemirror_mode": {
    "name": "ipython",
    "version": 3
   },
   "file_extension": ".py",
   "mimetype": "text/x-python",
   "name": "python",
   "nbconvert_exporter": "python",
   "pygments_lexer": "ipython3",
   "version": "3.9.7"
  }
 },
 "nbformat": 4,
 "nbformat_minor": 5
}
